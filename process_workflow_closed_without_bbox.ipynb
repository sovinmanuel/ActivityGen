{
 "cells": [
  {
   "cell_type": "code",
   "execution_count": null,
   "id": "34425fef",
   "metadata": {},
   "outputs": [],
   "source": [
    "import pandas as pd\n",
    "import torch\n",
    "torch.manual_seed(0)\n",
    "result_df = pd.read_csv('workflow.csv')\n",
    "result_df"
   ]
  },
  {
   "cell_type": "code",
   "execution_count": null,
   "id": "939813b2",
   "metadata": {},
   "outputs": [],
   "source": [
    "app_names = []\n",
    "for index, row in result_df.iterrows():\n",
    "    app_names.append(row[\"ActiveWindow\"])\n",
    "app_names"
   ]
  },
  {
   "cell_type": "code",
   "execution_count": null,
   "id": "9ef0a3c4",
   "metadata": {},
   "outputs": [],
   "source": [
    "INPUT_FOLDER = \"./workflow/input/\"\n",
    "OUTPUT_FOLDER = \"./workflow/output\"\n",
    "\n",
    "from run_workflow_open import run_batch_inference\n",
    "full_jsons = run_batch_inference(INPUT_FOLDER+\"*\", app_names, OUTPUT_FOLDER)\n",
    "# full_jsons"
   ]
  },
  {
   "cell_type": "code",
   "execution_count": null,
   "id": "33d8e96d",
   "metadata": {},
   "outputs": [],
   "source": [
    "def find_smallest_bbox(entries, mousepos_x, mousepos_y):\n",
    "    smallest_entry = None\n",
    "    smallest_area = float('inf')\n",
    "\n",
    "    for entry in entries:\n",
    "        x1, y1, x2, y2 = entry[\"bbox\"]['x1'], entry[\"bbox\"]['y1'], entry[\"bbox\"]['x2'], entry[\"bbox\"]['y2']\n",
    "\n",
    "        # Calculate the area of the current bounding box\n",
    "        area = (x2 - x1) * (y2 - y1)\n",
    "\n",
    "        if x1 <= mousepos_x <= x2 and y1 <= mousepos_y <= y2:\n",
    "            # The mouse position is within the current bounding box\n",
    "            if area < smallest_area:\n",
    "                smallest_area = area\n",
    "                smallest_entry = entry\n",
    "\n",
    "    return smallest_entry"
   ]
  },
  {
   "cell_type": "code",
   "execution_count": null,
   "id": "b22c9535",
   "metadata": {},
   "outputs": [],
   "source": [
    "new_event_log = result_df.copy()\n",
    "new_event_log"
   ]
  },
  {
   "cell_type": "code",
   "execution_count": null,
   "id": "7a4a6f7d",
   "metadata": {},
   "outputs": [],
   "source": [
    "import os\n",
    "from pathlib import Path\n",
    "import shutil\n",
    "import cv2\n",
    "import matplotlib.pyplot as plt\n",
    "import glob\n",
    "import json \n",
    "\n",
    "TEMPLATE_FOLDER_PATH = \"dropbox_closed_templates\"\n",
    "dirpath = Path(TEMPLATE_FOLDER_PATH)\n",
    "if dirpath.exists() and dirpath.is_dir():\n",
    "    shutil.rmtree(dirpath)\n",
    "os.makedirs(TEMPLATE_FOLDER_PATH, exist_ok=True)\n",
    "\n",
    "# Create a list to store template information in JSON lines format\n",
    "template_list = []\n",
    "\n",
    "for index, row in result_df.iterrows():\n",
    "    print(index)\n",
    "    print(row[\"ScreenshotId\"])\n",
    "    full_json = full_jsons[row[\"ScreenshotId\"]]\n",
    "    # result_df.loc[index,'enabled_activities'] = \";\".join(full_json[\"activity_names\"])\n",
    "    img_resize_shape = full_json[\"img_resize_shape\"]  # type: ignore\n",
    "    activity_names = full_json[\"activity_names\"]  # type: ignore\n",
    "\n",
    "    screenshot_id = row[\"ScreenshotId\"]\n",
    "\n",
    "    img = cv2.imread(INPUT_FOLDER + \"/\" + screenshot_id)\n",
    "    img_shape = img.shape\n",
    "\n",
    "    resize_factor = img_resize_shape[0] / img_shape[0]\n",
    "\n",
    "    img = cv2.resize(img, (int(img_resize_shape[1]), int(img_resize_shape[0])))\n",
    "    img_copy = img.copy()\n",
    "    mousepos_x = int(row['MousePositionX'] * resize_factor)\n",
    "    mousepos_y = int(row['MousePositionY'] * resize_factor)\n",
    "\n",
    "    img = cv2.circle(img, (mousepos_x, mousepos_y), radius=5, color=(0, 0, 255), thickness=5)\n",
    "    # cv2.imshow(str(index), cv2.circle(img, (mousepos_x, mousepos_y), radius=5, color=(0, 0, 255), thickness=5))\n",
    "    # cv2.waitKey()\n",
    "\n",
    "    clicked_compo_info = find_smallest_bbox(activity_names, mousepos_x, mousepos_y)\n",
    "    print(clicked_compo_info)\n",
    "    bbox = clicked_compo_info[\"bbox\"]\n",
    "    cropped_img = img_copy[bbox['y1']-5:bbox['y2']+5, bbox['x1']-5:bbox['x2']+5]\n",
    "    \n",
    "    # Save the cropped image in the \"closed_templates\" folder\n",
    "    template_name = \"cropped\"\n",
    "    template_file_name = f\"{template_name}_{index}.png\"\n",
    "    template_path = os.path.join(TEMPLATE_FOLDER_PATH, template_file_name)\n",
    "    cv2.imwrite(template_path, cropped_img)\n",
    "    \n",
    "    # Create JSON line entry and add it to the list\n",
    "    json_line_entry = {\n",
    "        \"template_name\": template_file_name,\n",
    "        \"activity_name\": clicked_compo_info[\"activity_name\"],\n",
    "        \"template_file_name\": template_file_name,\n",
    "        \"threshold\": 0.98\n",
    "    }\n",
    "    template_list.append(json_line_entry)\n",
    "\n",
    "# Save the JSON lines file in the \"closed_templates\" folder\n",
    "json_lines_file = os.path.join(TEMPLATE_FOLDER_PATH, \"metadata.jsonl\")\n",
    "with open(json_lines_file, \"w\") as f:\n",
    "    for item in template_list:\n",
    "        f.write(json.dumps(item) + \"\\n\")"
   ]
  },
  {
   "cell_type": "code",
   "execution_count": null,
   "id": "29708823",
   "metadata": {},
   "outputs": [],
   "source": [
    "from run_workflow_closed import run_batch_inference\n",
    "\n",
    "OUTPUT_FOLDER = \"./workflow_closed_output_without_bbox\"\n",
    "dirpath = Path(OUTPUT_FOLDER)\n",
    "if dirpath.exists() and dirpath.is_dir():\n",
    "    shutil.rmtree(dirpath)\n",
    "os.makedirs(OUTPUT_FOLDER, exist_ok=True)\n",
    "\n",
    "full_jsons = run_batch_inference(INPUT_FOLDER+\"*\", app_names, OUTPUT_FOLDER, TEMPLATE_FOLDER_PATH)"
   ]
  },
  {
   "cell_type": "code",
   "execution_count": null,
   "id": "0d73994a",
   "metadata": {},
   "outputs": [],
   "source": [
    "new_event_log = result_df.copy()\n",
    "new_event_log"
   ]
  },
  {
   "cell_type": "code",
   "execution_count": null,
   "id": "9abfa3b6",
   "metadata": {},
   "outputs": [],
   "source": [
    "import cv2\n",
    "import matplotlib.pyplot as plt\n",
    "import glob\n",
    "\n",
    "\n",
    "for index, row in result_df.iterrows():\n",
    "    print(index)\n",
    "    print(row[\"ScreenshotId\"])\n",
    "    full_json = full_jsons[row[\"ScreenshotId\"]]\n",
    "    img_resize_shape = full_json[\"img_resize_shape\"]\n",
    "    activity_names = full_json[\"activity_names\"]  # type: ignore\n",
    "    \n",
    "    screenshot_id = row[\"ScreenshotId\"]\n",
    "    \n",
    "    img = cv2.imread(INPUT_FOLDER + \"/\" + screenshot_id)\n",
    "    img_shape = img.shape\n",
    "\n",
    "    resize_factor = img_resize_shape[0] / img_shape[0]\n",
    "\n",
    "    img = cv2.resize(img, (int(img_resize_shape[1]), int(img_resize_shape[0])))\n",
    "\n",
    "    mousepos_x = int(row['MousePositionX'] * resize_factor)\n",
    "    mousepos_y = int(row['MousePositionY'] * resize_factor)\n",
    "\n",
    "    img = cv2.circle(img, (mousepos_x, mousepos_y), radius=7, color=(0, 0, 255), thickness=10)\n",
    "    # cv2.imshow(\"image\", img)\n",
    "    # cv2.waitKey(0)\n",
    "    smallest_entry = find_smallest_bbox(activity_names, mousepos_x, mousepos_y)\n",
    "    activity_names_set = set()\n",
    "    print(smallest_entry)\n",
    "    if smallest_entry:\n",
    "        if not smallest_entry[\"activity_name\"]:\n",
    "            smallest_entry[\"activity_name\"] = \"df\"\n",
    "        print(smallest_entry[\"activity_name\"])\n",
    "        # cv2.imwrite(str(index) + \"_\" + screenshot_id + \"_\"+ smallest_entry[\"activity_name\"] + \".jpg\", img)\n",
    "        new_event_log.loc[index, 'Activity'] = smallest_entry[\"activity_name\"]\n",
    "        activity_names_set.add(smallest_entry[\"activity_name\"])\n",
    "    for activity in full_json[\"activity_names\"]:\n",
    "        print(activity[\"is_vism\"])\n",
    "        if activity[\"is_vism\"]:\n",
    "            activity_names_set.add(activity[\"activity_name\"])\n",
    "    new_event_log.loc[index, 'Enabled Activities'] = \"; \".join(activity_names_set)"
   ]
  },
  {
   "cell_type": "code",
   "execution_count": null,
   "id": "5d4c349a",
   "metadata": {},
   "outputs": [],
   "source": [
    "new_event_log"
   ]
  },
  {
   "cell_type": "code",
   "execution_count": null,
   "id": "3aff44e0",
   "metadata": {},
   "outputs": [],
   "source": [
    "# new_event_log.to_csv(\"closed_translucent_workflow_small_without_bbox.csv\", index=False)"
   ]
  },
  {
   "cell_type": "code",
   "execution_count": null,
   "id": "72218ea8",
   "metadata": {},
   "outputs": [],
   "source": [
    "import pm4py\n",
    "\n",
    "# log = pm4py.read_('<path-to-xes-log-file.xes>')\n",
    "dataframe = pm4py.format_dataframe(new_event_log, case_id='CaseId', activity_key='Activity', timestamp_key='TimestampLocal')\n",
    "event_log = pm4py.convert_to_event_log(dataframe)\n",
    "process_model = pm4py.discover_bpmn_inductive(event_log)\n",
    "pm4py.view_bpmn(process_model)"
   ]
  }
 ],
 "metadata": {
  "kernelspec": {
   "display_name": "base",
   "language": "python",
   "name": "python3"
  },
  "language_info": {
   "codemirror_mode": {
    "name": "ipython",
    "version": 3
   },
   "file_extension": ".py",
   "mimetype": "text/x-python",
   "name": "python",
   "nbconvert_exporter": "python",
   "pygments_lexer": "ipython3",
   "version": "3.10.11"
  }
 },
 "nbformat": 4,
 "nbformat_minor": 5
}
